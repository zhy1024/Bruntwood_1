{
 "cells": [
  {
   "cell_type": "code",
   "execution_count": 19,
   "id": "2ee511bf-5f52-43eb-ada9-80201b0ee6d7",
   "metadata": {},
   "outputs": [],
   "source": [
    "from web3 import Web3, Account"
   ]
  },
  {
   "cell_type": "code",
   "execution_count": 12,
   "id": "0022415f-0c50-4a83-8290-28dc47e565f9",
   "metadata": {},
   "outputs": [],
   "source": [
    "w3 = Web3(Web3.HTTPProvider('https://mainnet.infura.io/v3/d07302ac230f4e12ab42659875260af1'))"
   ]
  },
  {
   "cell_type": "code",
   "execution_count": 13,
   "id": "fb0afd9e-1e74-4880-8510-3d40a5fe374a",
   "metadata": {},
   "outputs": [
    {
     "name": "stdout",
     "output_type": "stream",
     "text": [
      "Connected to network with ID: 1\n"
     ]
    }
   ],
   "source": [
    "network_id = w3.net.version\n",
    "print(f\"Connected to network with ID: {network_id}\")"
   ]
  },
  {
   "cell_type": "code",
   "execution_count": 15,
   "id": "1093aa22-7ca9-49fc-ae67-68bbd08f9821",
   "metadata": {},
   "outputs": [
    {
     "name": "stdout",
     "output_type": "stream",
     "text": [
      "New account created: 0x1EB4BFB63C1b84E2C6a9323E4D9C90D73A9A87B5\n",
      "Private key: 0x1244677bf4678029d4a2d26fb586600d7684490cc9884f16ff25228c3a8a983d\n"
     ]
    }
   ],
   "source": [
    "account = Account.create() \n",
    "print(f\"New account created: {account.address}\") \n",
    "print(f\"Private key: {account.key.hex()}\")"
   ]
  },
  {
   "cell_type": "code",
   "execution_count": 17,
   "id": "eae78ec4-8a64-4233-bfb7-60d6fbaa0eeb",
   "metadata": {},
   "outputs": [
    {
     "name": "stdout",
     "output_type": "stream",
     "text": [
      "Loaded account: 0x1EB4BFB63C1b84E2C6a9323E4D9C90D73A9A87B5\n"
     ]
    }
   ],
   "source": [
    "private_key = '0x1244677bf4678029d4a2d26fb586600d7684490cc9884f16ff25228c3a8a983d' \n",
    "account=Account.from_key(private_key) \n",
    "print(f\"Loaded account: {account.address}\")"
   ]
  },
  {
   "cell_type": "code",
   "execution_count": 24,
   "id": "96839f39-4dcc-4bac-8161-75c16af8b200",
   "metadata": {},
   "outputs": [
    {
     "name": "stdout",
     "output_type": "stream",
     "text": [
      "Account balance: 0 ETH\n"
     ]
    }
   ],
   "source": [
    "balance = w3.eth.get_balance(account.address)\n",
    "balance_in_ether = w3.from_wei(balance, 'ether')\n",
    "print(f\"Account balance: {balance_in_ether} ETH\")"
   ]
  },
  {
   "cell_type": "code",
   "execution_count": 25,
   "id": "9a903828-e230-44e9-8f57-60e853807960",
   "metadata": {},
   "outputs": [
    {
     "ename": "SyntaxError",
     "evalue": "invalid syntax (4072642799.py, line 1)",
     "output_type": "error",
     "traceback": [
      "\u001b[0;36m  Cell \u001b[0;32mIn[25], line 1\u001b[0;36m\u001b[0m\n\u001b[0;31m    contract_address = 'CONTRACT_ADDRESS' contract_abi=[...] # Your contract ABI contract=w3.eth.contract(address=contract_address, abi=contract_abi)\u001b[0m\n\u001b[0m                                          ^\u001b[0m\n\u001b[0;31mSyntaxError\u001b[0m\u001b[0;31m:\u001b[0m invalid syntax\n"
     ]
    }
   ],
   "source": [
    "contract_address = 'CONTRACT_ADDRESS' contract_abi=[...] # Your contract ABI contract=w3.eth.contract(address=contract_address, abi=contract_abi)\n"
   ]
  }
 ],
 "metadata": {
  "kernelspec": {
   "display_name": "Python 3 (ipykernel)",
   "language": "python",
   "name": "python3"
  },
  "language_info": {
   "codemirror_mode": {
    "name": "ipython",
    "version": 3
   },
   "file_extension": ".py",
   "mimetype": "text/x-python",
   "name": "python",
   "nbconvert_exporter": "python",
   "pygments_lexer": "ipython3",
   "version": "3.11.4"
  }
 },
 "nbformat": 4,
 "nbformat_minor": 5
}
