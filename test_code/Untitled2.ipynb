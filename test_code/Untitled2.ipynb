{
 "cells": [
  {
   "cell_type": "code",
   "execution_count": 1,
   "id": "53a06a09",
   "metadata": {},
   "outputs": [
    {
     "ename": "SystemExit",
     "evalue": "0",
     "output_type": "error",
     "traceback": [
      "An exception has occurred, use %tb to see the full traceback.\n",
      "\u001b[0;31mSystemExit\u001b[0m\u001b[0;31m:\u001b[0m 0\n"
     ]
    },
    {
     "name": "stderr",
     "output_type": "stream",
     "text": [
      "/Users/zhy/opt/anaconda3/lib/python3.9/site-packages/IPython/core/interactiveshell.py:3406: UserWarning: To exit: use 'exit', 'quit', or Ctrl-D.\n",
      "  warn(\"To exit: use 'exit', 'quit', or Ctrl-D.\", stacklevel=1)\n"
     ]
    }
   ],
   "source": [
    "from PyQt5.QtWidgets import QApplication, QMainWindow, QPushButton\n",
    "from PyQt5.QtCore import Qt\n",
    "import sys\n",
    "\n",
    "class StyledButton(QPushButton):\n",
    "    def __init__(self, text, parent=None):\n",
    "        super().__init__(text, parent)\n",
    "        self.setProperty(\"class\", \"styled-button\")\n",
    "\n",
    "class MainWindow(QMainWindow):\n",
    "    def __init__(self):\n",
    "        super().__init__()\n",
    "\n",
    "        self.init_ui()\n",
    "\n",
    "    def init_ui(self):\n",
    "        button1 = StyledButton(\"Styled Button 1\", self)\n",
    "        button1.setGeometry(50, 50, 200, 40)\n",
    "\n",
    "        button2 = StyledButton(\"Styled Button 2\", self)\n",
    "        button2.setGeometry(50, 100, 200, 40)\n",
    "\n",
    "        self.setWindowTitle(\"Styled Buttons Example\")\n",
    "        self.setGeometry(100, 100, 300, 200)\n",
    "\n",
    "def main():\n",
    "    app = QApplication(sys.argv)\n",
    "    app.setStyleSheet(\n",
    "        \"\"\"\n",
    "        .styled-button {\n",
    "            background-color: #007acc;\n",
    "            color: white;\n",
    "            border: none;\n",
    "            border-radius: 5px;\n",
    "            padding: 10px;\n",
    "            font-size: 12px;\n",
    "        }\n",
    "\n",
    "        .styled-button:hover {\n",
    "            background-color: #0099cc;\n",
    "        }\n",
    "        \"\"\"\n",
    "    )\n",
    "\n",
    "    window = MainWindow()\n",
    "    window.show()\n",
    "    sys.exit(app.exec_())\n",
    "\n",
    "if __name__ == \"__main__\":\n",
    "    main()\n"
   ]
  },
  {
   "cell_type": "code",
   "execution_count": 3,
   "id": "cb675acb",
   "metadata": {},
   "outputs": [],
   "source": [
    "import tkinter as tk\n",
    "from tkinter import ttk\n",
    "from ttkthemes import ThemedStyle\n",
    "\n",
    "class StyledButtonsApp:\n",
    "    def __init__(self, root):\n",
    "        self.root = root\n",
    "        self.root.title(\"Styled Buttons Example\")\n",
    "        self.create_widgets()\n",
    "\n",
    "    def create_widgets(self):\n",
    "        style = ThemedStyle(self.root)\n",
    "        style.set_theme(\"adapta\")  # Choose a theme (e.g., \"equilux\", \"arc\", \"plastik\", etc.)\n",
    "\n",
    "        self.choose_file = ttk.Button(self.root, text=\"Choose File\", command=self.open_file_dialog)\n",
    "        self.choose_file.pack(pady=50, side=tk.LEFT, padx=10)\n",
    "\n",
    "        self.extract_btn = ttk.Button(self.root, text=\"Extract\", command=self.show_extracted_text)\n",
    "        self.extract_btn.pack(pady=50, side=tk.LEFT, padx=10)\n",
    "\n",
    "    def open_file_dialog(self):\n",
    "        # Your open file dialog logic here\n",
    "        pass\n",
    "\n",
    "    def show_extracted_text(self):\n",
    "        # Your show extracted text logic here\n",
    "        pass\n",
    "\n",
    "def main():\n",
    "    root = tk.Tk()\n",
    "    app = StyledButtonsApp(root)\n",
    "    root.mainloop()\n",
    "\n",
    "if __name__ == \"__main__\":\n",
    "    main()\n"
   ]
  }
 ],
 "metadata": {
  "kernelspec": {
   "display_name": "Python 3 (ipykernel)",
   "language": "python",
   "name": "python3"
  },
  "language_info": {
   "codemirror_mode": {
    "name": "ipython",
    "version": 3
   },
   "file_extension": ".py",
   "mimetype": "text/x-python",
   "name": "python",
   "nbconvert_exporter": "python",
   "pygments_lexer": "ipython3",
   "version": "3.9.13"
  }
 },
 "nbformat": 4,
 "nbformat_minor": 5
}
