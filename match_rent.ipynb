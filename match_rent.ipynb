{
 "cells": [
  {
   "cell_type": "code",
   "execution_count": 154,
   "id": "c258d6b5",
   "metadata": {},
   "outputs": [],
   "source": [
    "import PyPDF2\n",
    "import spacy\n",
    "from spacy.matcher import Matcher\n",
    "import re\n",
    "import stanza"
   ]
  },
  {
   "cell_type": "code",
   "execution_count": 147,
   "id": "0c2f4d96",
   "metadata": {},
   "outputs": [],
   "source": [
    "file_path = 'oldham.txt'\n",
    "file = open(file_path, 'r')\n",
    "\n",
    "# Read the entire file content\n",
    "text = file.read()\n",
    "\n",
    "file.close()"
   ]
  },
  {
   "cell_type": "code",
   "execution_count": 151,
   "id": "68447bc8",
   "metadata": {},
   "outputs": [],
   "source": [
    "# Load the spaCy English model\n",
    "nlp = spacy.load('en_core_web_sm')\n",
    "\n",
    "# Process the text using spaCy\n",
    "doc = nlp(text)\n",
    "\n",
    "# Keywords to search for\n",
    "keywords = [\"initial rent\", \"annual rent\", \"rent\"]"
   ]
  },
  {
   "cell_type": "code",
   "execution_count": 129,
   "id": "90900356",
   "metadata": {},
   "outputs": [
    {
     "name": "stdout",
     "output_type": "stream",
     "text": [
      "£244,580.00\n"
     ]
    }
   ],
   "source": [
    "keywords_match = Matcher(nlp.vocab)\n",
    "\n",
    "match_after = Matcher(nlp.vocab)\n",
    "\n",
    "match_before = Matcher(nlp.vocab)\n",
    "\n",
    "for keyword in keywords:\n",
    "    if len(keyword.split()) == 1:\n",
    "        keywords_match.add(keyword,[\n",
    "            [{\"LOWER\": keyword.lower()}]\n",
    "        ])\n",
    "        \n",
    "        match_after.add(keyword + \"_after\",[\n",
    "            [{\"LOWER\": keyword.lower()},\n",
    "             {\"OP\": \"*\"},\n",
    "             {\"LOWER\": {\"IN\": [\"£\", \"$\", \"€\"]}},\n",
    "             {\"TEXT\": {\"REGEX\": r\"[\\d,.]+\"}}]\n",
    "        ])\n",
    "        \n",
    "        match_before.add(keyword + \"_before\",[\n",
    "            [{\"LOWER\": {\"IN\": [\"£\", \"$\", \"€\"]}},\n",
    "             {\"TEXT\": {\"REGEX\": r\"[\\d,.]+\"}},\n",
    "             {\"OP\": \"*\"},\n",
    "             {\"LOWER\": keyword.lower()}]\n",
    "        ])\n",
    "    else:\n",
    "        keywords_match.add(keyword,[\n",
    "            [{\"LOWER\": keyword.split()[0].lower()},\n",
    "             {\"LOWER\": keyword.split()[1].lower()}]\n",
    "        ])\n",
    "        match_after.add(keyword + \"_after\",[\n",
    "            [{\"LOWER\": keyword.split()[0].lower()},\n",
    "             {\"LOWER\": keyword.split()[1].lower()},\n",
    "             {\"OP\": \"*\"},\n",
    "             {\"LOWER\": {\"IN\": [\"£\", \"$\", \"€\"]}},\n",
    "             {\"TEXT\": {\"REGEX\": r\"[\\d,.]+\"}}]\n",
    "        ])\n",
    "        \n",
    "        match_before.add(keyword + \"_before\",[\n",
    "            [{\"LOWER\": {\"IN\": [\"£\", \"$\", \"€\"]}},\n",
    "             {\"TEXT\": {\"REGEX\": r\"[\\d,.]+\"}},\n",
    "             {\"OP\": \"*\"},\n",
    "             {\"LOWER\": keyword.split()[0].lower()},\n",
    "             {\"LOWER\": keyword.split()[1].lower()}]\n",
    "        ])\n",
    "        \n",
    "keywords_matched = keywords_match(doc)\n",
    "\n",
    "rent = None\n",
    "\n",
    "def second_match(match_func, doc, start, end):\n",
    "    rent_value = None\n",
    "    span = doc[start: end]\n",
    "    \n",
    "    rent_match = match_func(span)\n",
    "    if rent_match:\n",
    "        rent_value = re.search(r'[£$€][\\d,.]+', span.text).group()\n",
    "    return rent_value\n",
    "\n",
    "for match_id, start, end in keywords_matched:\n",
    "    search_start = max(0, start - 50)\n",
    "    search_end = min(end + 100, len(doc))\n",
    "\n",
    "    if second_match(match_after, doc, start, search_end):\n",
    "        rent = second_match(match_after, doc, start, search_end)\n",
    "    else:\n",
    "        rent = second_match(match_before, doc, search_start, end)\n",
    "        \n",
    "    if rent:\n",
    "        print(rent)\n",
    "        break\n",
    "\n",
    "if not rent:\n",
    "    print(\"No rent founded.\")\n",
    "        \n"
   ]
  },
  {
   "cell_type": "code",
   "execution_count": 140,
   "id": "9bd11c39",
   "metadata": {},
   "outputs": [
    {
     "name": "stdout",
     "output_type": "stream",
     "text": [
      "Term  : Ten (10)  years\n"
     ]
    }
   ],
   "source": [
    "term_keywords = \"term\"\n",
    "term_match = Matcher(nlp.vocab)\n",
    "term_val_match = Matcher(nlp.vocab)\n",
    "\n",
    "term_match.add(term_keywords,[\n",
    "    [{\"LOWER\": term_keywords.lower()}]\n",
    "])\n",
    "\n",
    "term_val_match.add(term_keywords+\"_val\",[\n",
    "    [{\"LOWER\": term_keywords.lower()},\n",
    "     {\"IS_SPACE\": True, \"OP\":\"*\"},\n",
    "     {\"TEXT\": \":\"},\n",
    "     {\"OP\": \"*\"},\n",
    "     {\"LIKE_NUM\": True, \"OP\":\"+\"},\n",
    "     {\"IS_PUNCT\": True, \"OP\":\"?\"},\n",
    "     {\"LIKE_NUM\": True, \"OP\":\"?\"},\n",
    "     {\"IS_PUNCT\": True, \"OP\":\"?\"},\n",
    "     {\"IS_SPACE\": True, \"OP\":\"*\"},\n",
    "     {\"LOWER\": {\"REGEX\": \"years?|months?\"}}]\n",
    "])\n",
    "\n",
    "def second_match_2(match_func, doc, start, end):\n",
    "    rent_value = None\n",
    "    span = doc[start: end]\n",
    "    \n",
    "    rent_match = match_func(span)\n",
    "    \n",
    "    if rent_match:\n",
    "        for match_id, start, end in rent_match:\n",
    "            print(span[start:end])\n",
    "#     if rent_match:\n",
    "#         rent_value = re.search(r'[£$€][\\d,.]+', span.text).group()\n",
    "#     return rent_value\n",
    "\n",
    "term_matched = term_match(doc)\n",
    "\n",
    "term = None\n",
    "\n",
    "for match_id, start, end in term_matched:\n",
    "#     search_start = max(0, start - 50)\n",
    "    search_end = min(end + 15, len(doc))\n",
    "    span = doc[start:search_end]\n",
    "    \n",
    "    second_match_2(term_val_match, doc, start, search_end)\n",
    "    \n",
    "#     term= re.search(r'[£$€][\\d,.]+', span.text).group()\n",
    "\n",
    "#     if second_match(match_after, doc, start, search_end):\n",
    "#         rent = second_match(match_after, doc, start, search_end)\n",
    "#     else:\n",
    "#         rent = second_match(match_before, doc, search_start, end)\n",
    "        \n",
    "#     if rent:\n",
    "#         print(rent)\n",
    "#         break"
   ]
  },
  {
   "cell_type": "code",
   "execution_count": 152,
   "id": "d1849ca6",
   "metadata": {},
   "outputs": [
    {
     "ename": "AttributeError",
     "evalue": "'NoneType' object has no attribute 'group'",
     "output_type": "error",
     "traceback": [
      "\u001b[0;31m---------------------------------------------------------------------------\u001b[0m",
      "\u001b[0;31mAttributeError\u001b[0m                            Traceback (most recent call last)",
      "Input \u001b[0;32mIn [152]\u001b[0m, in \u001b[0;36m<cell line: 36>\u001b[0;34m()\u001b[0m\n\u001b[1;32m     37\u001b[0m search_start \u001b[38;5;241m=\u001b[39m \u001b[38;5;28mmax\u001b[39m(\u001b[38;5;241m0\u001b[39m, start \u001b[38;5;241m-\u001b[39m \u001b[38;5;241m50\u001b[39m)\n\u001b[1;32m     38\u001b[0m search_end \u001b[38;5;241m=\u001b[39m \u001b[38;5;28mmin\u001b[39m(end \u001b[38;5;241m+\u001b[39m \u001b[38;5;241m100\u001b[39m, \u001b[38;5;28mlen\u001b[39m(doc))\n\u001b[0;32m---> 40\u001b[0m rent \u001b[38;5;241m=\u001b[39m \u001b[43msecond_match\u001b[49m\u001b[43m(\u001b[49m\u001b[43mdoc\u001b[49m\u001b[43m,\u001b[49m\u001b[43m \u001b[49m\u001b[43mstart\u001b[49m\u001b[43m,\u001b[49m\u001b[43m \u001b[49m\u001b[43msearch_end\u001b[49m\u001b[43m)\u001b[49m\n\u001b[1;32m     41\u001b[0m \u001b[38;5;28;01mif\u001b[39;00m \u001b[38;5;129;01mnot\u001b[39;00m rent:\n\u001b[1;32m     42\u001b[0m     rent \u001b[38;5;241m=\u001b[39m second_match(doc, search_start, end)\n",
      "Input \u001b[0;32mIn [152]\u001b[0m, in \u001b[0;36msecond_match\u001b[0;34m(doc, start, end)\u001b[0m\n\u001b[1;32m     30\u001b[0m rent_match \u001b[38;5;241m=\u001b[39m matcher(span)\n\u001b[1;32m     31\u001b[0m \u001b[38;5;28;01mif\u001b[39;00m rent_match:\n\u001b[0;32m---> 32\u001b[0m     rent_value \u001b[38;5;241m=\u001b[39m \u001b[43mre\u001b[49m\u001b[38;5;241;43m.\u001b[39;49m\u001b[43msearch\u001b[49m\u001b[43m(\u001b[49m\u001b[38;5;124;43mr\u001b[39;49m\u001b[38;5;124;43m'\u001b[39;49m\u001b[38;5;124;43m[£$€][\u001b[39;49m\u001b[38;5;124;43m\\\u001b[39;49m\u001b[38;5;124;43md,.]+\u001b[39;49m\u001b[38;5;124;43m'\u001b[39;49m\u001b[43m,\u001b[49m\u001b[43m \u001b[49m\u001b[43mspan\u001b[49m\u001b[38;5;241;43m.\u001b[39;49m\u001b[43mtext\u001b[49m\u001b[43m)\u001b[49m\u001b[38;5;241;43m.\u001b[39;49m\u001b[43mgroup\u001b[49m()\n\u001b[1;32m     33\u001b[0m     \u001b[38;5;28;01mreturn\u001b[39;00m rent_value\n\u001b[1;32m     34\u001b[0m \u001b[38;5;28;01mreturn\u001b[39;00m \u001b[38;5;28;01mNone\u001b[39;00m\n",
      "\u001b[0;31mAttributeError\u001b[0m: 'NoneType' object has no attribute 'group'"
     ]
    }
   ],
   "source": [
    "\n"
   ]
  }
 ],
 "metadata": {
  "kernelspec": {
   "display_name": "Python 3 (ipykernel)",
   "language": "python",
   "name": "python3"
  },
  "language_info": {
   "codemirror_mode": {
    "name": "ipython",
    "version": 3
   },
   "file_extension": ".py",
   "mimetype": "text/x-python",
   "name": "python",
   "nbconvert_exporter": "python",
   "pygments_lexer": "ipython3",
   "version": "3.9.13"
  }
 },
 "nbformat": 4,
 "nbformat_minor": 5
}
